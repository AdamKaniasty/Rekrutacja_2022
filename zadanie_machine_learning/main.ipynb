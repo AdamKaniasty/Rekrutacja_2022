{
 "cells": [
  {
   "cell_type": "code",
   "execution_count": 481,
   "metadata": {},
   "outputs": [],
   "source": [
    "import numpy as np\n",
    "import pandas as pd\n",
    "import matplotlib.pyplot as plt\n",
    "import seaborn as sns\n",
    "plt.rcParams[\"figure.figsize\"] = (10, 5)\n",
    "plt.rcParams[\"figure.facecolor\"] = \"white\"\n",
    "plt.rcParams[\"axes.facecolor\"] = \"white\""
   ]
  },
  {
   "cell_type": "markdown",
   "metadata": {},
   "source": [
    "## Describe the problem"
   ]
  },
  {
   "cell_type": "markdown",
   "metadata": {},
   "source": [
    "## Analyze the data"
   ]
  },
  {
   "cell_type": "code",
   "execution_count": 482,
   "metadata": {},
   "outputs": [
    {
     "data": {
      "text/html": [
       "<div>\n",
       "<style scoped>\n",
       "    .dataframe tbody tr th:only-of-type {\n",
       "        vertical-align: middle;\n",
       "    }\n",
       "\n",
       "    .dataframe tbody tr th {\n",
       "        vertical-align: top;\n",
       "    }\n",
       "\n",
       "    .dataframe thead th {\n",
       "        text-align: right;\n",
       "    }\n",
       "</style>\n",
       "<table border=\"1\" class=\"dataframe\">\n",
       "  <thead>\n",
       "    <tr style=\"text-align: right;\">\n",
       "      <th></th>\n",
       "      <th>id</th>\n",
       "      <th>gender</th>\n",
       "      <th>age</th>\n",
       "      <th>hypertension</th>\n",
       "      <th>heart_disease</th>\n",
       "      <th>ever_married</th>\n",
       "      <th>work_type</th>\n",
       "      <th>Residence_type</th>\n",
       "      <th>avg_glucose_level</th>\n",
       "      <th>bmi</th>\n",
       "      <th>smoking_status</th>\n",
       "      <th>stroke</th>\n",
       "    </tr>\n",
       "  </thead>\n",
       "  <tbody>\n",
       "    <tr>\n",
       "      <th>0</th>\n",
       "      <td>9046</td>\n",
       "      <td>Male</td>\n",
       "      <td>67.0</td>\n",
       "      <td>0</td>\n",
       "      <td>1</td>\n",
       "      <td>Yes</td>\n",
       "      <td>Private</td>\n",
       "      <td>Urban</td>\n",
       "      <td>228.69</td>\n",
       "      <td>36.6</td>\n",
       "      <td>formerly smoked</td>\n",
       "      <td>1</td>\n",
       "    </tr>\n",
       "    <tr>\n",
       "      <th>1</th>\n",
       "      <td>51676</td>\n",
       "      <td>Female</td>\n",
       "      <td>61.0</td>\n",
       "      <td>0</td>\n",
       "      <td>0</td>\n",
       "      <td>Yes</td>\n",
       "      <td>Self-employed</td>\n",
       "      <td>Rural</td>\n",
       "      <td>202.21</td>\n",
       "      <td>NaN</td>\n",
       "      <td>never smoked</td>\n",
       "      <td>1</td>\n",
       "    </tr>\n",
       "    <tr>\n",
       "      <th>3</th>\n",
       "      <td>60182</td>\n",
       "      <td>Female</td>\n",
       "      <td>49.0</td>\n",
       "      <td>0</td>\n",
       "      <td>0</td>\n",
       "      <td>Yes</td>\n",
       "      <td>Private</td>\n",
       "      <td>Urban</td>\n",
       "      <td>171.23</td>\n",
       "      <td>34.4</td>\n",
       "      <td>smokes</td>\n",
       "      <td>1</td>\n",
       "    </tr>\n",
       "    <tr>\n",
       "      <th>5</th>\n",
       "      <td>56669</td>\n",
       "      <td>Male</td>\n",
       "      <td>81.0</td>\n",
       "      <td>0</td>\n",
       "      <td>0</td>\n",
       "      <td>Yes</td>\n",
       "      <td>Private</td>\n",
       "      <td>Urban</td>\n",
       "      <td>186.21</td>\n",
       "      <td>29.0</td>\n",
       "      <td>formerly smoked</td>\n",
       "      <td>1</td>\n",
       "    </tr>\n",
       "    <tr>\n",
       "      <th>7</th>\n",
       "      <td>10434</td>\n",
       "      <td>Female</td>\n",
       "      <td>69.0</td>\n",
       "      <td>0</td>\n",
       "      <td>0</td>\n",
       "      <td>No</td>\n",
       "      <td>Private</td>\n",
       "      <td>Urban</td>\n",
       "      <td>94.39</td>\n",
       "      <td>22.8</td>\n",
       "      <td>never smoked</td>\n",
       "      <td>1</td>\n",
       "    </tr>\n",
       "  </tbody>\n",
       "</table>\n",
       "</div>"
      ],
      "text/plain": [
       "      id  gender   age  hypertension  heart_disease ever_married  \\\n",
       "0   9046    Male  67.0             0              1          Yes   \n",
       "1  51676  Female  61.0             0              0          Yes   \n",
       "3  60182  Female  49.0             0              0          Yes   \n",
       "5  56669    Male  81.0             0              0          Yes   \n",
       "7  10434  Female  69.0             0              0           No   \n",
       "\n",
       "       work_type Residence_type  avg_glucose_level   bmi   smoking_status  \\\n",
       "0        Private          Urban             228.69  36.6  formerly smoked   \n",
       "1  Self-employed          Rural             202.21   NaN     never smoked   \n",
       "3        Private          Urban             171.23  34.4           smokes   \n",
       "5        Private          Urban             186.21  29.0  formerly smoked   \n",
       "7        Private          Urban              94.39  22.8     never smoked   \n",
       "\n",
       "   stroke  \n",
       "0       1  \n",
       "1       1  \n",
       "3       1  \n",
       "5       1  \n",
       "7       1  "
      ]
     },
     "execution_count": 482,
     "metadata": {},
     "output_type": "execute_result"
    }
   ],
   "source": [
    "df = pd.read_csv(\"data.csv\")\n",
    "df_test = df.sample(frac=0.2, random_state=25)\n",
    "df = df.drop(df_test.index)\n",
    "TARGET = \"stroke\"\n",
    "df.head()"
   ]
  },
  {
   "cell_type": "code",
   "execution_count": 483,
   "metadata": {},
   "outputs": [
    {
     "data": {
      "text/plain": [
       "(4088, 12)"
      ]
     },
     "execution_count": 483,
     "metadata": {},
     "output_type": "execute_result"
    }
   ],
   "source": [
    "df.shape"
   ]
  },
  {
   "cell_type": "markdown",
   "metadata": {},
   "source": [
    "### Create plot functions"
   ]
  },
  {
   "cell_type": "code",
   "execution_count": 484,
   "metadata": {},
   "outputs": [],
   "source": [
    "def ratioPlot(df,name):\n",
    "    df_to_plot = df[name].value_counts()\n",
    "    df_to_plot.plot.barh(color=\"#21252B\")\n",
    "    for index, value in enumerate(df_to_plot):\n",
    "        plt.text(value, index, str(value),ha=\"left\",va=\"center\")\n",
    "    plt.show()\n",
    "    df_to_plot = df[[name,TARGET]].groupby([name]).value_counts()\n",
    "    df_to_plot.plot.barh(color=\"#21252B\")\n",
    "    for index, value in enumerate(df_to_plot):\n",
    "            plt.text(value, index, str(value),ha=\"left\",va=\"center\")\n",
    "\n",
    "    plt.show()        \n",
    "    \n",
    "def ratioPrint(df,name):\n",
    "    print(\"LABELS\")\n",
    "    total = df.shape[0]\n",
    "    for index,label in zip(df[name].unique(),df[name].value_counts()):\n",
    "        print(\" \",index,\"->\",label,\",\",f'{int(label/total*100)}%')\n",
    "    print()\n",
    "    print(\"LABELS WITH STROKE\")\n",
    "    labels = df[[name,TARGET]].groupby([name]).value_counts().keys()\n",
    "    labels_total = df[[name,TARGET]].groupby(name).count()[TARGET]\n",
    "    cnt = 0\n",
    "    for index,label in zip(labels,df[[name,TARGET]].groupby([name]).value_counts()):\n",
    "        print(\" \",index,\"->\",label,\",\",f'{int(label/total*100)}%',f'{int(label/labels_total.iloc[cnt//2]*100)}%')\n",
    "        cnt+=1\n",
    "    "
   ]
  },
  {
   "cell_type": "markdown",
   "metadata": {},
   "source": [
    "### Stroke"
   ]
  },
  {
   "cell_type": "markdown",
   "metadata": {},
   "source": [
    "Check healthy to ill ratio"
   ]
  },
  {
   "cell_type": "code",
   "execution_count": 485,
   "metadata": {},
   "outputs": [
    {
     "data": {
      "text/plain": [
       "([<matplotlib.patches.Wedge at 0x240d0f4df10>,\n",
       "  <matplotlib.patches.Wedge at 0x240d0f2b670>],\n",
       " [Text(-1.0870328243268486, 0.16840320316429608, 'HEALTHY'),\n",
       "  Text(1.185853994474847, -0.18371255751322516, 'ILL')],\n",
       " [Text(-0.5929269950873718, 0.09185629263507057, '95.1%'),\n",
       "  Text(0.6917481634436606, -0.10716565854938134, '4.9%')])"
      ]
     },
     "execution_count": 485,
     "metadata": {},
     "output_type": "execute_result"
    },
    {
     "data": {
      "image/png": "[encoded data removed]",
      "text/plain": [
       "<Figure size 720x360 with 1 Axes>"
      ]
     },
     "metadata": {},
     "output_type": "display_data"
    }
   ],
   "source": [
    "plt.pie(df[TARGET].value_counts(), autopct='%1.1f%%', explode=[0,0.1], labels=[\"HEALTHY\",\"ILL\"], colors=[\"green\",\"red\"])"
   ]
  },
  {
   "cell_type": "markdown",
   "metadata": {},
   "source": [
    "As expected a great deal more patients are healthy. Such a huge difference may be problematic during training the models"
   ]
  },
  {
   "cell_type": "markdown",
   "metadata": {},
   "source": [
    "### Id"
   ]
  },
  {
   "cell_type": "markdown",
   "metadata": {},
   "source": [
    "Completely useless. Will be deleted"
   ]
  },
  {
   "cell_type": "code",
   "execution_count": 486,
   "metadata": {},
   "outputs": [],
   "source": [
    "df.drop(\"id\",axis = 1, inplace = True)"
   ]
  },
  {
   "cell_type": "markdown",
   "metadata": {},
   "source": [
    "### Gender"
   ]
  },
  {
   "cell_type": "code",
   "execution_count": 487,
   "metadata": {},
   "outputs": [
    {
     "data": {
      "image/png": "[encoded data removed]",
      "text/plain": [
       "<Figure size 720x360 with 1 Axes>"
      ]
     },
     "metadata": {},
     "output_type": "display_data"
    },
    {
     "data": {
      "image/png": "[encoded data removed]",
      "text/plain": [
       "<Figure size 720x360 with 1 Axes>"
      ]
     },
     "metadata": {},
     "output_type": "display_data"
    }
   ],
   "source": [
    "ratioPlot(df,\"gender\")"
   ]
  },
  {
   "cell_type": "code",
   "execution_count": 488,
   "metadata": {},
   "outputs": [
    {
     "name": "stdout",
     "output_type": "stream",
     "text": [
      "LABELS\n",
      "  Male -> 2401 , 58%\n",
      "  Female -> 1686 , 41%\n",
      "  Other -> 1 , 0%\n",
      "\n",
      "LABELS WITH STROKE\n",
      "  ('Female', 0) -> 2280 , 55% 94%\n",
      "  ('Female', 1) -> 121 , 2% 5%\n",
      "  ('Male', 0) -> 1607 , 39% 95%\n",
      "  ('Male', 1) -> 79 , 1% 4%\n",
      "  ('Other', 0) -> 1 , 0% 100%\n"
     ]
    }
   ],
   "source": [
    "ratioPrint(df,\"gender\")"
   ]
  },
  {
   "cell_type": "code",
   "execution_count": 489,
   "metadata": {},
   "outputs": [],
   "source": [
    "df.drop(df.index[df[\"gender\"] == \"Other\"], inplace=True)\n",
    "df[\"gender\"].replace([\"Male\",\"Female\"],[0,1],inplace=True)"
   ]
  },
  {
   "cell_type": "markdown",
   "metadata": {},
   "source": [
    "Since there is only one Other in gender column we can delete it to simplify the data. Also we replace Male/Female with 0/1 so third option would be problematic"
   ]
  },
  {
   "cell_type": "markdown",
   "metadata": {},
   "source": [
    "### Age"
   ]
  },
  {
   "cell_type": "code",
   "execution_count": 490,
   "metadata": {},
   "outputs": [
    {
     "data": {
      "text/plain": [
       "104"
      ]
     },
     "execution_count": 490,
     "metadata": {},
     "output_type": "execute_result"
    }
   ],
   "source": [
    "df[\"age\"].nunique()"
   ]
  },
  {
   "cell_type": "markdown",
   "metadata": {},
   "source": [
    "Since the're so many different values for age, I will divide them into groups (0 - the youngest group, 5 - the oldest)"
   ]
  },
  {
   "cell_type": "code",
   "execution_count": 491,
   "metadata": {},
   "outputs": [
    {
     "name": "stdout",
     "output_type": "stream",
     "text": [
      "LABELS\n",
      "  4 -> 1257 , 30%\n",
      "  3 -> 1200 , 29%\n",
      "  1 -> 444 , 10%\n",
      "  5 -> 422 , 10%\n",
      "  2 -> 398 , 9%\n",
      "  0 -> 366 , 8%\n",
      "\n",
      "LABELS WITH STROKE\n",
      "  (0, 0) -> 1256 , 30% 99%\n",
      "  (0, 1) -> 1 , 0% 0%\n",
      "  (1, 0) -> 1180 , 28% 98%\n",
      "  (1, 1) -> 20 , 0% 1%\n",
      "  (2, 0) -> 402 , 9% 95%\n",
      "  (2, 1) -> 20 , 0% 4%\n",
      "  (3, 0) -> 372 , 9% 93%\n",
      "  (3, 1) -> 26 , 0% 6%\n",
      "  (4, 0) -> 392 , 9% 88%\n",
      "  (4, 1) -> 52 , 1% 11%\n",
      "  (5, 0) -> 285 , 6% 77%\n",
      "  (5, 1) -> 81 , 1% 22%\n"
     ]
    }
   ],
   "source": [
    "df['age'] = pd.qcut(df['age'], q=[0, .3, .6, .7, .8, .9, 1], labels=[0,1,2,3,4,5])\n",
    "ratioPrint(df,'age')"
   ]
  },
  {
   "cell_type": "code",
   "execution_count": 492,
   "metadata": {},
   "outputs": [
    {
     "data": {
      "image/png": "[encoded data removed]",
      "text/plain": [
       "<Figure size 720x360 with 1 Axes>"
      ]
     },
     "metadata": {},
     "output_type": "display_data"
    },
    {
     "data": {
      "image/png": "[encoded data removed]",
      "text/plain": [
       "<Figure size 720x360 with 1 Axes>"
      ]
     },
     "metadata": {},
     "output_type": "display_data"
    }
   ],
   "source": [
    "ratioPlot(df,'age')"
   ]
  },
  {
   "cell_type": "markdown",
   "metadata": {},
   "source": [
    "As can be seen, with greater age comes higher probability of being victim of a stroke"
   ]
  },
  {
   "cell_type": "markdown",
   "metadata": {},
   "source": [
    "### Hypertension and heart disease"
   ]
  },
  {
   "cell_type": "code",
   "execution_count": 493,
   "metadata": {},
   "outputs": [
    {
     "data": {
      "image/png": "[encoded data removed]",
      "text/plain": [
       "<Figure size 720x360 with 1 Axes>"
      ]
     },
     "metadata": {},
     "output_type": "display_data"
    },
    {
     "data": {
      "image/png": "[encoded data removed]",
      "text/plain": [
       "<Figure size 720x360 with 1 Axes>"
      ]
     },
     "metadata": {},
     "output_type": "display_data"
    },
    {
     "data": {
      "image/png": "[encoded data removed]",
      "text/plain": [
       "<Figure size 720x360 with 1 Axes>"
      ]
     },
     "metadata": {},
     "output_type": "display_data"
    },
    {
     "data": {
      "image/png": "[encoded data removed]",
      "text/plain": [
       "<Figure size 720x360 with 1 Axes>"
      ]
     },
     "metadata": {},
     "output_type": "display_data"
    }
   ],
   "source": [
    "ratioPlot(df,\"hypertension\"),\n",
    "ratioPlot(df,\"heart_disease\")"
   ]
  },
  {
   "cell_type": "code",
   "execution_count": 494,
   "metadata": {},
   "outputs": [
    {
     "name": "stdout",
     "output_type": "stream",
     "text": [
      "LABELS\n",
      "  0 -> 3715 , 90%\n",
      "  1 -> 372 , 9%\n",
      "\n",
      "LABELS WITH STROKE\n",
      "  (0, 0) -> 3569 , 87% 96%\n",
      "  (0, 1) -> 146 , 3% 3%\n",
      "  (1, 0) -> 318 , 7% 85%\n",
      "  (1, 1) -> 54 , 1% 14%\n",
      "\n",
      "\n",
      "LABELS\n",
      "  1 -> 3858 , 94%\n",
      "  0 -> 229 , 5%\n",
      "\n",
      "LABELS WITH STROKE\n",
      "  (0, 0) -> 3697 , 90% 95%\n",
      "  (0, 1) -> 161 , 3% 4%\n",
      "  (1, 0) -> 190 , 4% 82%\n",
      "  (1, 1) -> 39 , 0% 17%\n"
     ]
    }
   ],
   "source": [
    "ratioPrint(df,\"hypertension\"),\n",
    "print(),print(),\n",
    "ratioPrint(df,\"heart_disease\")"
   ]
  },
  {
   "cell_type": "markdown",
   "metadata": {},
   "source": [
    "Hypertension and heart disease affect greatly the chance of patient having a stroke  \n",
    "Maybe patients with both of these will have even greater chance?"
   ]
  },
  {
   "cell_type": "code",
   "execution_count": 495,
   "metadata": {},
   "outputs": [
    {
     "name": "stdout",
     "output_type": "stream",
     "text": [
      "LABELS\n",
      "  0 -> 4038 , 98%\n",
      "  1 -> 49 , 1%\n",
      "\n",
      "LABELS WITH STROKE\n",
      "  (0, 0) -> 3849 , 94% 95%\n",
      "  (0, 1) -> 189 , 4% 4%\n",
      "  (1, 0) -> 38 , 0% 77%\n",
      "  (1, 1) -> 11 , 0% 22%\n"
     ]
    }
   ],
   "source": [
    "def merge_cols(x,y):\n",
    "    if x == 1 and y == 1:\n",
    "        return 1\n",
    "    else:\n",
    "        return 0\n",
    "\n",
    "df[\"hypertension and heart-disease\"] = df.apply(lambda x: merge_cols(x[\"hypertension\"],x[\"heart_disease\"]),axis = 1)\n",
    "ratioPrint(df,\"hypertension and heart-disease\")"
   ]
  },
  {
   "cell_type": "markdown",
   "metadata": {},
   "source": [
    "The chance is a bit higher"
   ]
  },
  {
   "cell_type": "markdown",
   "metadata": {},
   "source": [
    "### Ever Married"
   ]
  },
  {
   "cell_type": "code",
   "execution_count": 499,
   "metadata": {},
   "outputs": [
    {
     "data": {
      "image/png": "[encoded data removed]",
      "text/plain": [
       "<Figure size 720x360 with 1 Axes>"
      ]
     },
     "metadata": {},
     "output_type": "display_data"
    },
    {
     "data": {
      "image/png": "[encoded data removed]",
      "text/plain": [
       "<Figure size 720x360 with 1 Axes>"
      ]
     },
     "metadata": {},
     "output_type": "display_data"
    }
   ],
   "source": [
    "ratioPlot(df,\"ever_married\")"
   ]
  },
  {
   "cell_type": "code",
   "execution_count": 500,
   "metadata": {},
   "outputs": [
    {
     "name": "stdout",
     "output_type": "stream",
     "text": [
      "LABELS\n",
      "  Yes -> 2689 , 65%\n",
      "  No -> 1398 , 34%\n",
      "\n",
      "LABELS WITH STROKE\n",
      "  ('No', 0) -> 1378 , 33% 98%\n",
      "  ('No', 1) -> 20 , 0% 1%\n",
      "  ('Yes', 0) -> 2509 , 61% 93%\n",
      "  ('Yes', 1) -> 180 , 4% 6%\n"
     ]
    }
   ],
   "source": [
    "ratioPrint(df,'ever_married')"
   ]
  },
  {
   "cell_type": "code",
   "execution_count": null,
   "metadata": {},
   "outputs": [],
   "source": []
  }
 ],
 "metadata": {
  "kernelspec": {
   "display_name": "Python 3.9.12 ('base')",
   "language": "python",
   "name": "python3"
  },
  "language_info": {
   "codemirror_mode": {
    "name": "ipython",
    "version": 3
   },
   "file_extension": ".py",
   "mimetype": "text/x-python",
   "name": "python",
   "nbconvert_exporter": "python",
   "pygments_lexer": "ipython3",
   "version": "3.9.12"
  },
  "orig_nbformat": 4,
  "vscode": {
   "interpreter": {
    "hash": "43f0ca11ed382140051881ed6533fa07526a309ad743bba968e66f399578d266"
   }
  }
 },
 "nbformat": 4,
 "nbformat_minor": 2
}
